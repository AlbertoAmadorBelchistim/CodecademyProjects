{
 "cells": [
  {
   "cell_type": "code",
   "execution_count": 24,
   "id": "27ad3207",
   "metadata": {},
   "outputs": [
    {
     "name": "stdout",
     "output_type": "stream",
     "text": [
      "806.9708846584547\n",
      "Henry VIII                           31\n",
      "Richard III                          20\n",
      "Sweden                               18\n",
      "Norway                               18\n",
      "Solomon                              17\n",
      "                                     ..\n",
      "Bad, Bad Leroy Brown                  1\n",
      "Elephants                             1\n",
      "Deborah Kerr                          1\n",
      "Ruritania                             1\n",
      "a pyramid (the pyramids accepted)     1\n",
      "Name: Answer, Length: 1040, dtype: int64\n"
     ]
    }
   ],
   "source": [
    "import pandas as pd\n",
    "pd.set_option('display.max_colwidth',None)\n",
    "\n",
    "jeopardy_data = pd.read_csv(\"jeopardy.csv\")\n",
    "jeopardy_data = jeopardy_data.rename(columns={\"Show Number\":\"Show_Number\",\" Air Date\":\"Air_Date\",\" Round\":\"Round\",\" Category\":\"Category\",\" Value\":\"Value\",\" Question\":\"Question\",\" Answer\":\"Answer\"})\n",
    "jeopardy_data[\"Float_value\"]=jeopardy_data[\"Value\"].apply(lambda x: float(x[1:].replace(',','')) if x != \"None\" else 0)\n",
    "\n",
    "def question_contain(data,list):\n",
    "  filter = lambda x : all(\" \" + str(word.lower()) + \" \" in x.lower() for word in list)\n",
    "  return data.loc[data.Question.apply(filter)]\n",
    "\n",
    "list = [\"King\",\"England\"]\n",
    "filtered_data = question_contain(jeopardy_data,list)\n",
    "\n",
    "filtered_data2 = question_contain(jeopardy_data,[\"King\"])\n",
    "\n",
    "print (filtered_data2[\"Float_value\"].mean())\n",
    "\n",
    "def get_answer_counts (data):\n",
    "    return data[\"Answer\"].value_counts()\n",
    "\n",
    "print (get_answer_counts(filtered_data2))\n"
   ]
  },
  {
   "cell_type": "code",
   "execution_count": null,
   "id": "e80e3250",
   "metadata": {},
   "outputs": [],
   "source": []
  }
 ],
 "metadata": {
  "kernelspec": {
   "display_name": "Python 3 (ipykernel)",
   "language": "python",
   "name": "python3"
  },
  "language_info": {
   "codemirror_mode": {
    "name": "ipython",
    "version": 3
   },
   "file_extension": ".py",
   "mimetype": "text/x-python",
   "name": "python",
   "nbconvert_exporter": "python",
   "pygments_lexer": "ipython3",
   "version": "3.10.9"
  }
 },
 "nbformat": 4,
 "nbformat_minor": 5
}
